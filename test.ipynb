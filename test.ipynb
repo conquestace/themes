{
 "cells": [
  {
   "cell_type": "code",
   "execution_count": 1,
   "id": "0144d387",
   "metadata": {},
   "outputs": [
    {
     "name": "stdout",
     "output_type": "stream",
     "text": [
      "Raw contents: '{\\n    \"conquestace\": {\\n      \"colors\": {\\n        \"midnight\": \"#21252d\",\\n        \"mathblue\": \"#1b91d6\",\\n        \"sky\": \"#8ecae6\",\\n        \"slatecard\": \"#1a1e2a\",\\n        \"lightblue\": \"#bfdbfe\",\\n        \"hoverblue\": \"#60a5fa\",\\n        \"slategray\": \"#1a1e2a\",\\n        \"softgray\": \"#9ca3af\"\\n      }\\n    },\\n    \"conquestace-light\": {\\n      \"colors\": {\\n        \"background\": \"#f9fafb\",\\n        \"mathblue\": \"#1b4d91\",\\n        \"sky\": \"#297fb8\",\\n        \"slatecard\": \"#f3f4f6\",\\n        \"lightblue\": \"#dbeafe\",\\n        \"hoverblue\": \"#60a5fa\",\\n        \"slategray\": \"#6b7280\",\\n        \"softgray\": \"#9ca3af\"\\n      }\\n    }\\n  }'\n",
      "Parsed successfully: {'conquestace': {'colors': {'midnight': '#21252d', 'mathblue': '#1b91d6', 'sky': '#8ecae6', 'slatecard': '#1a1e2a', 'lightblue': '#bfdbfe', 'hoverblue': '#60a5fa', 'slategray': '#1a1e2a', 'softgray': '#9ca3af'}}, 'conquestace-light': {'colors': {'background': '#f9fafb', 'mathblue': '#1b4d91', 'sky': '#297fb8', 'slatecard': '#f3f4f6', 'lightblue': '#dbeafe', 'hoverblue': '#60a5fa', 'slategray': '#6b7280', 'softgray': '#9ca3af'}}}\n"
     ]
    }
   ],
   "source": [
    "import json\n",
    "\n",
    "with open(\"themes.json\", \"r\") as f:\n",
    "    contents = f.read()\n",
    "    print(\"Raw contents:\", repr(contents))  # Check for empty string or odd characters\n",
    "    data = json.loads(contents)\n",
    "    print(\"Parsed successfully:\", data)"
   ]
  },
  {
   "cell_type": "code",
   "execution_count": null,
   "id": "7a5968d0",
   "metadata": {},
   "outputs": [
    {
     "name": "stdout",
     "output_type": "stream",
     "text": [
      "Saved palette: palettes/conquestace.png\n",
      "Saved palette: palettes/conquestace-light.png\n"
     ]
    }
   ],
   "source": [
    "import json\n",
    "import os\n",
    "import matplotlib.pyplot as plt\n",
    "\n",
    "def hex_to_rgb(hex_color):\n",
    "    \"\"\"Convert hex color (e.g. #1b91d6) to RGB tuple (0-1 scale)\"\"\"\n",
    "    hex_color = hex_color.lstrip('#')\n",
    "    return tuple(int(hex_color[i:i+2], 16)/255 for i in (0, 2, 4))\n",
    "\n",
    "def plot_theme_palette(name, colors):\n",
    "    \"\"\"Draw a color palette row for a theme\"\"\"\n",
    "    num_colors = len(colors)\n",
    "    fig, ax = plt.subplots(figsize=(num_colors * 1.5, 2))\n",
    "    for i, (label, hex_color) in enumerate(colors.items()):\n",
    "        rgb = hex_to_rgb(hex_color)\n",
    "        ax.add_patch(plt.Rectangle((i, 0), 1, 1, color=rgb))\n",
    "        ax.text(i + 0.5, -0.1, label, ha='center', va='top', fontsize=9, color='white')\n",
    "    ax.set_xlim(0, num_colors)\n",
    "    ax.set_ylim(-0.2, 1)\n",
    "    ax.axis('off')\n",
    "    plt.title(name, fontsize=14, color='white')\n",
    "    fig.patch.set_facecolor('#111')\n",
    "    plt.tight_layout()\n",
    "    return fig\n",
    "\n",
    "def generate_all_palettes(theme_file, output_dir='palettes'):\n",
    "    with open(theme_file, 'r') as f:\n",
    "        themes = json.load(f)\n",
    "\n",
    "    os.makedirs(output_dir, exist_ok=True)\n",
    "\n",
    "    for theme_name, theme_data in themes.items():\n",
    "        colors = theme_data.get(\"colors\", {})\n",
    "        fig = plot_theme_palette(theme_name, colors)\n",
    "        output_path = os.path.join(output_dir, f\"{theme_name}.png\")\n",
    "        plt.savefig(output_path, dpi=200)\n",
    "        plt.close()\n",
    "        print(f\"Saved palette: {output_path}\")\n",
    "\n",
    "# Run this if the script is executed directly\n",
    "if __name__ == \"__main__\":\n",
    "    generate_all_palettes(\"themes.json\")\n"
   ]
  },
  {
   "cell_type": "code",
   "execution_count": 4,
   "id": "0e983152",
   "metadata": {},
   "outputs": [
    {
     "name": "stdout",
     "output_type": "stream",
     "text": [
      "Saved: palettes/conquestace.png\n",
      "Saved: palettes/conquestace-light.png\n",
      "Saved combined palette grid: palettes/all_palettes.png\n"
     ]
    }
   ],
   "source": [
    "import json\n",
    "import os\n",
    "import matplotlib.pyplot as plt\n",
    "\n",
    "def hex_to_rgb(hex_color):\n",
    "    \"\"\"Convert hex color (e.g. #1b91d6) to RGB tuple (0-1 scale)\"\"\"\n",
    "    hex_color = hex_color.lstrip('#')\n",
    "    return tuple(int(hex_color[i:i+2], 16)/255 for i in (0, 2, 4))\n",
    "\n",
    "def plot_theme_palette(ax, name, colors):\n",
    "    \"\"\"Draw a color palette row for a theme on a provided axis\"\"\"\n",
    "    num_colors = len(colors)\n",
    "    for i, (label, hex_color) in enumerate(colors.items()):\n",
    "        rgb = hex_to_rgb(hex_color)\n",
    "        ax.add_patch(plt.Rectangle((i, 0), 1, 1, color=rgb))\n",
    "        ax.text(i + 0.5, -0.15, label, ha='center', va='top', fontsize=8, color='white', rotation=30)\n",
    "    ax.set_xlim(0, num_colors)\n",
    "    ax.set_ylim(-0.3, 1)\n",
    "    ax.set_title(name, fontsize=12, color='white')\n",
    "    ax.axis('off')\n",
    "    ax.set_facecolor('#111')\n",
    "\n",
    "def generate_all_palettes(theme_file, output_dir='palettes'):\n",
    "    with open(theme_file, 'r') as f:\n",
    "        themes = json.load(f)\n",
    "\n",
    "    os.makedirs(output_dir, exist_ok=True)\n",
    "    all_figures = []\n",
    "\n",
    "    for theme_name, theme_data in themes.items():\n",
    "        colors = theme_data.get(\"colors\", {})\n",
    "        \n",
    "        # Save individual image\n",
    "        fig, ax = plt.subplots(figsize=(len(colors) * 1.5, 2))\n",
    "        plot_theme_palette(ax, theme_name, colors)\n",
    "        output_path = os.path.join(output_dir, f\"{theme_name}.png\")\n",
    "        fig.savefig(output_path, dpi=200)\n",
    "        plt.close(fig)\n",
    "        print(f\"Saved: {output_path}\")\n",
    "        \n",
    "        all_figures.append((theme_name, colors))\n",
    "\n",
    "    # Generate combined grid\n",
    "    combined_rows = len(all_figures)\n",
    "    max_colors = max(len(c) for _, c in all_figures)\n",
    "    fig_height = 2.5 * combined_rows\n",
    "    fig_width = max_colors * 1.6\n",
    "\n",
    "    fig, axs = plt.subplots(nrows=combined_rows, ncols=1, figsize=(fig_width, fig_height))\n",
    "\n",
    "    if combined_rows == 1:\n",
    "        axs = [axs]  # handle single row case\n",
    "\n",
    "    for ax, (theme_name, colors) in zip(axs, all_figures):\n",
    "        plot_theme_palette(ax, theme_name, colors)\n",
    "\n",
    "    fig.patch.set_facecolor('#111')\n",
    "    plt.tight_layout()\n",
    "    grid_path = os.path.join(output_dir, \"all_palettes.png\")\n",
    "    fig.savefig(grid_path, dpi=200)\n",
    "    plt.close(fig)\n",
    "    print(f\"Saved combined palette grid: {grid_path}\")\n",
    "\n",
    "# Run this if the script is executed directly\n",
    "if __name__ == \"__main__\":\n",
    "    generate_all_palettes(\"themes.json\")\n"
   ]
  }
 ],
 "metadata": {
  "kernelspec": {
   "display_name": "venv",
   "language": "python",
   "name": "python3"
  },
  "language_info": {
   "codemirror_mode": {
    "name": "ipython",
    "version": 3
   },
   "file_extension": ".py",
   "mimetype": "text/x-python",
   "name": "python",
   "nbconvert_exporter": "python",
   "pygments_lexer": "ipython3",
   "version": "3.10.12"
  }
 },
 "nbformat": 4,
 "nbformat_minor": 5
}
